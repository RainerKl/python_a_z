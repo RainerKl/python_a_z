{
 "cells": [
  {
   "cell_type": "code",
   "execution_count": null,
   "source": [
    "# f-string with float formatting in list-comprehension"
   ],
   "outputs": [],
   "metadata": {}
  },
  {
   "cell_type": "code",
   "execution_count": null,
   "source": [
    "Fahrenheit = [32, 60, 102]\r\n",
    "\r\n",
    "F_to_C = ['{:.2f} Celsius'.format((x - 32) * (5/9)) for x in Fahrenheit]\r\n",
    "\r\n",
    "print(F_to_C)\r\n",
    "\r\n",
    "# output ['0.00 Celsius', '15.56 Celsius', '38.89 Celsius']"
   ],
   "outputs": [],
   "metadata": {}
  },
  {
   "cell_type": "code",
   "execution_count": null,
   "source": [
    "print(f'{[((x - 32) * (5/9)) for x in Fahrenheit]}')  # This prints the float numbers without formatting \r\n",
    "\r\n",
    "# output: [0.0, 15.555555555555557, 38.88888888888889]\r\n",
    "# need instead: ['0.00 Celsius', '15.56 Celsius', '38.89 Celsius']"
   ],
   "outputs": [],
   "metadata": {}
  },
  {
   "cell_type": "code",
   "execution_count": null,
   "source": [
    "n = 10\r\n",
    "\r\n",
    "print(f'{n:.2f} Celsius') # prints 10.00 Celsius "
   ],
   "outputs": [],
   "metadata": {}
  },
  {
   "cell_type": "code",
   "execution_count": null,
   "source": [
    "[f'{((x - 32) * (5/9)):.2f} Celsius' for x in Fahrenheit]\r\n",
    "# ['0.00 Celsius', '15.56 Celsius', '38.89 Celsius']"
   ],
   "outputs": [],
   "metadata": {}
  }
 ],
 "metadata": {
  "orig_nbformat": 4,
  "language_info": {
   "name": "python"
  }
 },
 "nbformat": 4,
 "nbformat_minor": 2
}