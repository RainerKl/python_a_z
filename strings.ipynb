{
 "cells": [
  {
   "cell_type": "code",
   "execution_count": null,
   "source": [
    "# f-string with float formatting in list-comprehension"
   ],
   "outputs": [],
   "metadata": {}
  },
  {
   "cell_type": "code",
   "execution_count": 1,
   "source": [
    "Fahrenheit = [32, 60, 102]\r\n",
    "\r\n",
    "F_to_C = ['{:.2f} Celsius'.format((x - 32) * (5/9)) for x in Fahrenheit]\r\n",
    "\r\n",
    "print(F_to_C)\r\n",
    "\r\n",
    "# output ['0.00 Celsius', '15.56 Celsius', '38.89 Celsius']"
   ],
   "outputs": [
    {
     "output_type": "stream",
     "name": "stdout",
     "text": [
      "['0.00 Celsius', '15.56 Celsius', '38.89 Celsius']\n"
     ]
    }
   ],
   "metadata": {}
  },
  {
   "cell_type": "code",
   "execution_count": 8,
   "source": [
    "[f'{((x - 32) * (5/9)):.2f} Celsius' for x in Fahrenheit]\r\n",
    "# ['0.00 Celsius', '15.56 Celsius', '38.89 Celsius']"
   ],
   "outputs": [
    {
     "output_type": "execute_result",
     "data": {
      "text/plain": [
       "['0.00 Celsius', '15.56 Celsius', '38.89 Celsius']"
      ]
     },
     "metadata": {},
     "execution_count": 8
    }
   ],
   "metadata": {}
  },
  {
   "cell_type": "code",
   "execution_count": 9,
   "source": [
    "# For more formatting, see https://docs.python.org/3/library/string.html#format-specification-mini-language"
   ],
   "outputs": [],
   "metadata": {}
  },
  {
   "cell_type": "code",
   "execution_count": 13,
   "source": [
    "\r\n",
    "\r\n",
    "def equals_debugging():\r\n",
    "    str_value = \"other dog\"\r\n",
    "    num_value = 123\r\n",
    "    print(f'the value is {str_value}')\r\n",
    "    print(f'{str_value = }') # variable name and value\r\n",
    "    print(f'{num_value % 60 = }') # arbitrary expressions (modulo)\r\n",
    "equals_debugging()\r\n"
   ],
   "outputs": [
    {
     "output_type": "stream",
     "name": "stdout",
     "text": [
      "the value is other dog\n",
      "str_value = 'other dog'\n",
      "num_value % 60 = 3\n"
     ]
    }
   ],
   "metadata": {}
  },
  {
   "cell_type": "code",
   "execution_count": 14,
   "source": [
    "    \r\n",
    "def conversions():\r\n",
    "    str_value = 'other dog'\r\n",
    "    print(f'{str_value!a}') # ASCII-safe print with the quotes in it\r\n",
    "    print(f'{str_value!r}') # '!r' is better than repr() \r\n",
    "    # print(f'{repr(str_value)}')\r\n",
    "    print(f'{str_value!s}') # string formatting. useful because it gets applied before formatting"
   ],
   "outputs": [],
   "metadata": {}
  },
  {
   "cell_type": "code",
   "execution_count": 15,
   "source": [
    "# we define a class to see better what is done under the hood\r\n",
    "# it's an empty class that defines a format method\r\n",
    "# which takes a format spec and returns a string\r\n",
    "class MyClass:\r\n",
    "    def __format__(self,format_spec) -> str:\r\n",
    "        print(f'MyClass __format__ called with {format_spec=!r} ')\r\n",
    "        return \"MyClass()\""
   ],
   "outputs": [],
   "metadata": {}
  },
  {
   "cell_type": "code",
   "execution_count": 18,
   "source": [
    "import datetime"
   ],
   "outputs": [],
   "metadata": {}
  },
  {
   "cell_type": "code",
   "execution_count": 19,
   "source": [
    "def formatting():\r\n",
    "    num_value = 123.456\r\n",
    "    now = datetime.datetime.utcnow()\r\n",
    "    print(f'{now=:%Y-%m-%d}') # format string (%Y-%m-%d) specific to datetime\r\n",
    "    print(f'{num_value:.2f}') # format string (2f) specific to numeric\r\n",
    "    print(f'{MyClass():blah blah %%MYFORMAT%%}')\r\n",
    "    \r\n",
    "    nested_format = \".2f\"\r\n",
    "    print(f'{num_value:{nested_format}}')\r\n",
    "    \r\n",
    "formatting()"
   ],
   "outputs": [
    {
     "output_type": "stream",
     "name": "stdout",
     "text": [
      "now=2021-10-06\n",
      "123.46\n",
      "MyClass __format__ called with format_spec='blah blah %%MYFORMAT%%' \n",
      "MyClass()\n",
      "123.46\n"
     ]
    }
   ],
   "metadata": {}
  },
  {
   "cell_type": "markdown",
   "source": [],
   "metadata": {}
  }
 ],
 "metadata": {
  "orig_nbformat": 4,
  "language_info": {
   "name": "python",
   "version": "3.8.5",
   "mimetype": "text/x-python",
   "codemirror_mode": {
    "name": "ipython",
    "version": 3
   },
   "pygments_lexer": "ipython3",
   "nbconvert_exporter": "python",
   "file_extension": ".py"
  },
  "kernelspec": {
   "name": "python3",
   "display_name": "Python 3.8.5 32-bit"
  },
  "interpreter": {
   "hash": "0a7d1dd6c2ca8aa2f6b8c77e5b98535f702a4c5a801df20500bdb2065ffe99d1"
  }
 },
 "nbformat": 4,
 "nbformat_minor": 2
}