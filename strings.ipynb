{
 "cells": [
  {
   "cell_type": "code",
   "execution_count": null,
   "source": [
    "# f-string with float formatting in list-comprehension"
   ],
   "outputs": [],
   "metadata": {}
  },
  {
   "cell_type": "code",
   "execution_count": 1,
   "source": [
    "Fahrenheit = [32, 60, 102]\r\n",
    "\r\n",
    "F_to_C = ['{:.2f} Celsius'.format((x - 32) * (5/9)) for x in Fahrenheit]\r\n",
    "\r\n",
    "print(F_to_C)\r\n",
    "\r\n",
    "# output ['0.00 Celsius', '15.56 Celsius', '38.89 Celsius']"
   ],
   "outputs": [
    {
     "output_type": "stream",
     "name": "stdout",
     "text": [
      "['0.00 Celsius', '15.56 Celsius', '38.89 Celsius']\n"
     ]
    }
   ],
   "metadata": {}
  },
  {
   "cell_type": "code",
   "execution_count": 4,
   "source": [
    "[f'{((x - 32) * (5/9)):.2f} Celsius' for x in Fahrenheit]\r\n",
    "# ['0.00 Celsius', '15.56 Celsius', '38.89 Celsius']"
   ],
   "outputs": [
    {
     "output_type": "execute_result",
     "data": {
      "text/plain": [
       "['0.00 Celsius', '15.56 Celsius', '38.89 Celsius']"
      ]
     },
     "metadata": {},
     "execution_count": 4
    }
   ],
   "metadata": {}
  },
  {
   "cell_type": "markdown",
   "source": [],
   "metadata": {}
  }
 ],
 "metadata": {
  "orig_nbformat": 4,
  "language_info": {
   "name": "python",
   "version": "3.8.5",
   "mimetype": "text/x-python",
   "codemirror_mode": {
    "name": "ipython",
    "version": 3
   },
   "pygments_lexer": "ipython3",
   "nbconvert_exporter": "python",
   "file_extension": ".py"
  },
  "kernelspec": {
   "name": "python3",
   "display_name": "Python 3.8.5 32-bit"
  },
  "interpreter": {
   "hash": "0a7d1dd6c2ca8aa2f6b8c77e5b98535f702a4c5a801df20500bdb2065ffe99d1"
  }
 },
 "nbformat": 4,
 "nbformat_minor": 2
}