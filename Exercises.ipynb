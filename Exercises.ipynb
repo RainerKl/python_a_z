{
 "cells": [
  {
   "cell_type": "code",
   "execution_count": 88,
   "source": [
    "# Testing the law of large numbers\r\n",
    "# Script that\r\n",
    "# 1) Creates N random normally disributed numbers with mean =0 and stdev =1\r\n",
    "# 2) Count how many of these numbers fall within (-1;1)\r\n",
    "# 3) Divide the count by N numbers\r\n",
    "# 4) Compare to the expected outcome for normal distributions of 68.2%"
   ],
   "outputs": [],
   "metadata": {}
  },
  {
   "cell_type": "code",
   "execution_count": 89,
   "source": [
    "import numpy as np\r\n",
    "from numpy.random import randn\r\n"
   ],
   "outputs": [],
   "metadata": {}
  },
  {
   "cell_type": "code",
   "execution_count": 90,
   "source": [
    "# How many fall within the range (-1;1)?\r\n",
    "def func1(N):\r\n",
    "    counter=0\r\n",
    "    for i in randn(N):\r\n",
    "     if -1<i<1:\r\n",
    "        counter+=1\r\n",
    "    return counter/N\r\n"
   ],
   "outputs": [],
   "metadata": {}
  },
  {
   "cell_type": "code",
   "execution_count": 91,
   "source": [
    "Dataset = [[0]*2]*len(range(100,1050,50))"
   ],
   "outputs": [],
   "metadata": {}
  },
  {
   "cell_type": "code",
   "execution_count": 92,
   "source": [
    "for i in range(len(Dataset[:])):\r\n",
    "    n=list(range(100,1050,50))[i]\r\n",
    "    Dataset[i] = [n,func1(n)]"
   ],
   "outputs": [],
   "metadata": {}
  },
  {
   "cell_type": "code",
   "execution_count": 105,
   "source": [
    "from matplotlib import pyplot as plt\r\n",
    "plt.style.use('seaborn-whitegrid')\r\n",
    "import pandas as pd"
   ],
   "outputs": [],
   "metadata": {}
  },
  {
   "cell_type": "code",
   "execution_count": 116,
   "source": [
    "[0.682]*len(Dataset[:])"
   ],
   "outputs": [
    {
     "output_type": "execute_result",
     "data": {
      "text/plain": [
       "[0.682,\n",
       " 0.682,\n",
       " 0.682,\n",
       " 0.682,\n",
       " 0.682,\n",
       " 0.682,\n",
       " 0.682,\n",
       " 0.682,\n",
       " 0.682,\n",
       " 0.682,\n",
       " 0.682,\n",
       " 0.682,\n",
       " 0.682,\n",
       " 0.682,\n",
       " 0.682,\n",
       " 0.682,\n",
       " 0.682,\n",
       " 0.682,\n",
       " 0.682]"
      ]
     },
     "metadata": {},
     "execution_count": 116
    }
   ],
   "metadata": {}
  },
  {
   "cell_type": "code",
   "execution_count": 119,
   "source": [
    "np.linspace(0,1050,50)"
   ],
   "outputs": [
    {
     "output_type": "execute_result",
     "data": {
      "text/plain": [
       "array([   0.        ,   21.42857143,   42.85714286,   64.28571429,\n",
       "         85.71428571,  107.14285714,  128.57142857,  150.        ,\n",
       "        171.42857143,  192.85714286,  214.28571429,  235.71428571,\n",
       "        257.14285714,  278.57142857,  300.        ,  321.42857143,\n",
       "        342.85714286,  364.28571429,  385.71428571,  407.14285714,\n",
       "        428.57142857,  450.        ,  471.42857143,  492.85714286,\n",
       "        514.28571429,  535.71428571,  557.14285714,  578.57142857,\n",
       "        600.        ,  621.42857143,  642.85714286,  664.28571429,\n",
       "        685.71428571,  707.14285714,  728.57142857,  750.        ,\n",
       "        771.42857143,  792.85714286,  814.28571429,  835.71428571,\n",
       "        857.14285714,  878.57142857,  900.        ,  921.42857143,\n",
       "        942.85714286,  964.28571429,  985.71428571, 1007.14285714,\n",
       "       1028.57142857, 1050.        ])"
      ]
     },
     "metadata": {},
     "execution_count": 119
    }
   ],
   "metadata": {}
  },
  {
   "cell_type": "code",
   "execution_count": 94,
   "source": [
    "df=pd.DataFrame(Dataset)\r\n",
    "df.columns=['n','Percentage']"
   ],
   "outputs": [],
   "metadata": {}
  },
  {
   "cell_type": "code",
   "execution_count": 126,
   "source": [
    "plt.plot(df['n'],df['Percentage'], 'o', color='black')\r\n",
    "plt.plot(list(range(100,1050,50)), [0.682]*len(Dataset[:]), color='red')\r\n",
    "plt.xlabel('Sample size')\r\n",
    "plt.ylabel('Ratio of datapoints within +-1')\r\n",
    "plt.show()"
   ],
   "outputs": [
    {
     "output_type": "display_data",
     "data": {
      "image/png": "[encoded data removed]",
      "text/plain": [
       "<Figure size 432x288 with 1 Axes>"
      ]
     },
     "metadata": {}
    }
   ],
   "metadata": {}
  },
  {
   "cell_type": "code",
   "execution_count": null,
   "source": [],
   "outputs": [],
   "metadata": {}
  }
 ],
 "metadata": {
  "orig_nbformat": 4,
  "language_info": {
   "name": "python",
   "version": "3.8.5",
   "mimetype": "text/x-python",
   "codemirror_mode": {
    "name": "ipython",
    "version": 3
   },
   "pygments_lexer": "ipython3",
   "nbconvert_exporter": "python",
   "file_extension": ".py"
  },
  "kernelspec": {
   "name": "python3",
   "display_name": "Python 3.8.5 32-bit"
  },
  "interpreter": {
   "hash": "0a7d1dd6c2ca8aa2f6b8c77e5b98535f702a4c5a801df20500bdb2065ffe99d1"
  }
 },
 "nbformat": 4,
 "nbformat_minor": 2
}