{
 "cells": [
  {
   "cell_type": "code",
   "execution_count": 208,
   "source": [
    "# Testing the law of large numbers\r\n",
    "# Script that\r\n",
    "# 1) Creates N random normally disributed numbers with mean =0 and stdev =1\r\n",
    "# 2) Count how many of these numbers fall within (-1;1)\r\n",
    "# 3) Divide the count by N numbers\r\n",
    "# 4) Compare to the expected outcome for normal distributions of 68.2%"
   ],
   "outputs": [],
   "metadata": {}
  },
  {
   "cell_type": "code",
   "execution_count": 209,
   "source": [
    "import numpy as np\r\n",
    "from numpy.random import randn\r\n"
   ],
   "outputs": [],
   "metadata": {}
  },
  {
   "cell_type": "code",
   "execution_count": 210,
   "source": [
    "# How many fall within the range (-1;1)?\r\n",
    "def func1(N):\r\n",
    "    counter=0\r\n",
    "    for i in randn(N):\r\n",
    "     if -1<i<1:\r\n",
    "        counter+=1\r\n",
    "    return counter/N\r\n"
   ],
   "outputs": [],
   "metadata": {}
  },
  {
   "cell_type": "code",
   "execution_count": 211,
   "source": [
    "Dataset = [[0]*2]*len(range(100,1050,50))"
   ],
   "outputs": [],
   "metadata": {}
  },
  {
   "cell_type": "code",
   "execution_count": 212,
   "source": [
    "for i in range(len(Dataset[:])):\r\n",
    "    n=list(range(100,1050,50))[i]\r\n",
    "    Dataset[i] = [n,func1(n)]"
   ],
   "outputs": [],
   "metadata": {}
  },
  {
   "cell_type": "code",
   "execution_count": 213,
   "source": [
    "from matplotlib import pyplot as plt\r\n",
    "plt.style.use('seaborn-whitegrid')\r\n",
    "import pandas as pd"
   ],
   "outputs": [],
   "metadata": {}
  },
  {
   "cell_type": "code",
   "execution_count": 214,
   "source": [
    "#np.linspace(0,100, num=21)"
   ],
   "outputs": [],
   "metadata": {}
  },
  {
   "cell_type": "code",
   "execution_count": 215,
   "source": [
    "df=pd.DataFrame(Dataset)\r\n",
    "df.columns=['n','Percentage']"
   ],
   "outputs": [],
   "metadata": {}
  },
  {
   "cell_type": "code",
   "execution_count": 216,
   "source": [
    "plt.plot(df['n'],df['Percentage'], 'o', color='black')\r\n",
    "plt.plot(list(range(100,1050,50)), [0.682]*len(Dataset[:]), color='red')\r\n",
    "plt.xlabel('Sample size')\r\n",
    "plt.ylabel('Ratio of datapoints within +-1')\r\n",
    "plt.show()"
   ],
   "outputs": [
    {
     "output_type": "display_data",
     "data": {
      "image/png": "[encoded data removed]",
      "text/plain": [
       "<Figure size 432x288 with 1 Axes>"
      ]
     },
     "metadata": {}
    }
   ],
   "metadata": {}
  },
  {
   "cell_type": "code",
   "execution_count": 217,
   "source": [
    "# Exercise 2: Balance sheet analysis\r\n",
    "# Data\r\n",
    "revenue = [14574.49, 7606.46, 8611.41, 9175.41, 8058.65, 8105.44, 11496.28, 9766.09, 10305.32, 14379.96, 10713.97, 15433.50]\r\n",
    "expenses = [12051.82, 5695.07, 12319.20, 12089.72, 8658.57, 840.20, 3285.73, 5821.12, 6976.93, 16618.61, 10054.37, 3803.96]\r\n",
    "# Task:\r\n",
    "# 1) Profit for each month\r\n",
    "# 2) After-tax profit for each month (tax rate 30%)\r\n",
    "# 3) Net profit margin for each month\r\n",
    "# 4) Good months (after-tax profit greater than mean)\r\n",
    "# 5) Bad months (after-tax profit less than mean)\r\n",
    "# 6) The best month (after-tax profit max)\r\n",
    "# 7) The worst month (after-tax profit min)\r\n",
    "\r\n",
    "# Results to be as lists\r\n",
    "# Dollar values calculated at precision $.01 but presented at $1K precision\r\n",
    "# Margin presented as % with 0 decimal points\r\n",
    "# Negative tax is a deferred tax asset"
   ],
   "outputs": [],
   "metadata": {}
  },
  {
   "cell_type": "code",
   "execution_count": 242,
   "source": [
    "# Profit for each month\r\n",
    "profit=[]\r\n",
    "tax_rate=0.3\r\n",
    "tax=[]\r\n",
    "at_profit=[]\r\n",
    "net_margin=[]\r\n",
    "from statistics import mean\r\n",
    "good=[]\r\n",
    "bad=[]\r\n",
    "months=['Jan', 'Feb', 'Mar', 'Apr', 'May', 'Jun', 'Jul','Aug','Sep', 'Oct','Nov','Dec']\r\n",
    "\r\n",
    "for i, value in enumerate(revenue):\r\n",
    "    # Pre-tax profit\r\n",
    "    profit.append((revenue[i]-expenses[i]))\r\n",
    "    # Rounding\r\n",
    "    profit[i]=round(profit[i],2)\r\n",
    "    # Tax\r\n",
    "    tax.append(profit[i]*tax_rate)\r\n",
    "    # After-tax profit\r\n",
    "    at_profit.append(profit[i]-tax[i])\r\n",
    "    # Net margin\r\n",
    "    net_margin.append(round(at_profit[i]/revenue[i]*100,0\r\n",
    "                            ))\r\n",
    "    # Good and bad months\r\n",
    "    if at_profit[i]>=mean(at_profit):\r\n",
    "        good.append(True)\r\n",
    "        bad.append(False)\r\n",
    "    else: \r\n",
    "        good.append(False)\r\n",
    "        bad.append(True)\r\n",
    "    # Best month\r\n",
    "\r\n",
    "    "
   ],
   "outputs": [],
   "metadata": {}
  },
  {
   "cell_type": "code",
   "execution_count": 236,
   "source": [
    "max_amt=max(at_profit)\r\n",
    "max_mon=months[at_profit.index(max_amt)]\r\n",
    "\r\n",
    "f\"The most profitable month was {max_mon} with $ {round(max_amt,0)} K.\"\r\n"
   ],
   "outputs": [
    {
     "output_type": "execute_result",
     "data": {
      "text/plain": [
       "'The most profitable month is Dec with $ 8141.0 K.'"
      ]
     },
     "metadata": {},
     "execution_count": 236
    }
   ],
   "metadata": {}
  },
  {
   "cell_type": "code",
   "execution_count": 237,
   "source": [
    "min_amt=min(at_profit)\r\n",
    "min_mon=months[at_profit.index(min_amt)]\r\n",
    "\r\n",
    "f\"The least profitable month was {min_mon} with $ {round(min_amt,0)} K.\""
   ],
   "outputs": [
    {
     "output_type": "execute_result",
     "data": {
      "text/plain": [
       "'The least profitable month is Mar with $ -2595.0 K.'"
      ]
     },
     "metadata": {},
     "execution_count": 237
    }
   ],
   "metadata": {}
  },
  {
   "cell_type": "code",
   "execution_count": 277,
   "source": [
    "[f'$ {x:.0f}k' for x in at_profit]"
   ],
   "outputs": [
    {
     "output_type": "execute_result",
     "data": {
      "text/plain": [
       "['$ 1766k',\n",
       " '$ 1338k',\n",
       " '$ -2595k',\n",
       " '$ -2040k',\n",
       " '$ -420k',\n",
       " '$ 5086k',\n",
       " '$ 5747k',\n",
       " '$ 2761k',\n",
       " '$ 2330k',\n",
       " '$ -1567k',\n",
       " '$ 462k',\n",
       " '$ 8141k']"
      ]
     },
     "metadata": {},
     "execution_count": 277
    }
   ],
   "metadata": {}
  },
  {
   "cell_type": "code",
   "execution_count": 269,
   "source": [
    "for i, val in enumerate(months):\r\n",
    "    if at_profit[i]>=mean(at_profit):\r\n",
    "        print(val)\r\n",
    "#[f\"Good months were {val}\" for i, val in enumerate(months): if at_profit[i]>=mean(at_profit): print(val)]"
   ],
   "outputs": [
    {
     "output_type": "stream",
     "name": "stdout",
     "text": [
      "Jan\n",
      "Jun\n",
      "Jul\n",
      "Aug\n",
      "Sep\n",
      "Dec\n"
     ]
    }
   ],
   "metadata": {}
  },
  {
   "cell_type": "code",
   "execution_count": null,
   "source": [
    "f\"Monthly profits are as follows: {*profit,}.\""
   ],
   "outputs": [
    {
     "output_type": "execute_result",
     "data": {
      "text/plain": [
       "'Monthly profits are as follows: (2522.67, 1911.39, -3707.79, -2914.31, -599.92, 7265.24, 8210.55, 3944.97, 3328.39, -2238.65, 659.6, 11629.54).'"
      ]
     },
     "metadata": {},
     "execution_count": 170
    }
   ],
   "metadata": {}
  },
  {
   "cell_type": "code",
   "execution_count": 256,
   "source": [
    "f\"After-tax profit is : {*at_profit,}.\""
   ],
   "outputs": [
    {
     "output_type": "execute_result",
     "data": {
      "text/plain": [
       "'After-tax profit is : (1765.8690000000001, 1337.973, -2595.453, -2040.0169999999998, -419.94399999999996, 5085.668, 5747.385, 2761.479, 2329.873, -1567.055, 461.72, 8140.678000000001).'"
      ]
     },
     "metadata": {},
     "execution_count": 256
    }
   ],
   "metadata": {}
  },
  {
   "cell_type": "code",
   "execution_count": null,
   "source": [
    "f\"Revenues: {*at_profit,}.\""
   ],
   "outputs": [
    {
     "output_type": "execute_result",
     "data": {
      "text/plain": [
       "'Revenues: (1765.8690000000001,).'"
      ]
     },
     "metadata": {},
     "execution_count": 190
    }
   ],
   "metadata": {}
  },
  {
   "cell_type": "code",
   "execution_count": null,
   "source": [
    "f\"Monthly profit margins are as follows: {*net_margin,}.\""
   ],
   "outputs": [
    {
     "output_type": "execute_result",
     "data": {
      "text/plain": [
       "'Monthly profit margins are as follows: (12.0, 18.0, -30.0, -22.0, -5.0, 63.0, 50.0, 28.0, 23.0, -11.0, 4.0, 53.0).'"
      ]
     },
     "metadata": {},
     "execution_count": 204
    }
   ],
   "metadata": {}
  },
  {
   "cell_type": "code",
   "execution_count": null,
   "source": [
    "f\"Good months: {*good,}.\""
   ],
   "outputs": [],
   "metadata": {}
  }
 ],
 "metadata": {
  "orig_nbformat": 4,
  "language_info": {
   "name": "python",
   "version": "3.8.5",
   "mimetype": "text/x-python",
   "codemirror_mode": {
    "name": "ipython",
    "version": 3
   },
   "pygments_lexer": "ipython3",
   "nbconvert_exporter": "python",
   "file_extension": ".py"
  },
  "kernelspec": {
   "name": "python3",
   "display_name": "Python 3.8.5 32-bit"
  },
  "interpreter": {
   "hash": "0a7d1dd6c2ca8aa2f6b8c77e5b98535f702a4c5a801df20500bdb2065ffe99d1"
  }
 },
 "nbformat": 4,
 "nbformat_minor": 2
}